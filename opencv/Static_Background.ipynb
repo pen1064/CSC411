{
  "nbformat": 4,
  "nbformat_minor": 0,
  "metadata": {
    "colab": {
      "name": "Static_Background.ipynb",
      "provenance": [],
      "history_visible": true,
      "authorship_tag": "ABX9TyMWEq647yCG+NG67EMvZrcg",
      "include_colab_link": true
    },
    "kernelspec": {
      "name": "python3",
      "display_name": "Python 3"
    },
    "language_info": {
      "name": "python"
    }
  },
  "cells": [
    {
      "cell_type": "markdown",
      "metadata": {
        "id": "view-in-github",
        "colab_type": "text"
      },
      "source": [
        "<a href=\"https://colab.research.google.com/github/pen1064/CSC411/blob/main/opencv/Static_Background.ipynb\" target=\"_parent\"><img src=\"https://colab.research.google.com/assets/colab-badge.svg\" alt=\"Open In Colab\"/></a>"
      ]
    },
    {
      "cell_type": "code",
      "execution_count": 16,
      "metadata": {
        "colab": {
          "base_uri": "https://localhost:8080/"
        },
        "id": "qDm4GvL-eHz4",
        "outputId": "0c8fd18c-f18b-423a-c446-6d0101589d7f"
      },
      "outputs": [
        {
          "output_type": "stream",
          "name": "stdout",
          "text": [
            "Requirement already satisfied: youtube-dl in /usr/local/lib/python3.7/dist-packages (2020.12.2)\n"
          ]
        }
      ],
      "source": [
        "! pip install youtube-dl\n",
        "! pip install paft"
      ]
    },
    {
      "cell_type": "markdown",
      "source": [
        "Please note that line 52 of \"backend_youtube_dl.py\" is deleted. "
      ],
      "metadata": {
        "id": "PmMLbdR1zutt"
      }
    },
    {
      "cell_type": "code",
      "source": [
        "import cv2 \n",
        "from google.colab.patches import cv2_imshow # for image display\n",
        "import pafy"
      ],
      "metadata": {
        "id": "8p7Hluc_hkvv"
      },
      "execution_count": 1,
      "outputs": []
    },
    {
      "cell_type": "code",
      "source": [
        "class staticBackground:\n",
        "  def __init__(self, video, alpha, finalimgName):\n",
        "    self.video = video\n",
        "    self.alpha = alpha\n",
        "    self.finalimg_name = finalimgName\n",
        "    self.finalimg = None\n",
        "  \n",
        "  def convertBackground(self):\n",
        "    cap = cv2.VideoCapture(self.video)\n",
        "    frame_count = 1\n",
        "    while True:\n",
        "      ret, frame = cap.read()\n",
        "      if not ret:\n",
        "        break\n",
        "      if frame_count == 1:\n",
        "        avg = np.float32(frame)\n",
        "      avg = cv2.accumulateWeighted(frame, avg, self.alpha)\n",
        "      self.finalimg = cv2.convertScaleAbs(avg)\n",
        "      frame_count += 1\n",
        "    cv2.imwrite(self.finalimg_name, self.finalimg)\n",
        "    cv2.waitKey(0)"
      ],
      "metadata": {
        "id": "k08lSkzNtTna"
      },
      "execution_count": 30,
      "outputs": []
    },
    {
      "cell_type": "code",
      "source": [
        "file_url = \"https://www.youtube.com/watch?v=3FXUw98rrUY\"\n",
        "v = pafy.new(file_url)\n",
        "video = v.getbest(preftype=\"mp4\").url\n",
        "\n",
        "s1 = staticBackground(video, 0.6, \"video_0.6.jpg\")\n",
        "s1.convertBackground()"
      ],
      "metadata": {
        "id": "4V9MtbIovf9Z"
      },
      "execution_count": 23,
      "outputs": []
    },
    {
      "cell_type": "code",
      "source": [
        "video2 = \"London_Streets.mp4\"\n",
        "alphas=[0.002, 0.4, 0.6]\n",
        "for alpha in alphas:\n",
        "  filename = video2+'_'+str(alpha)+'.jpg'\n",
        "  s2 = staticBackground(video2, alpha, filename)\n",
        "  s2.convertBackground()"
      ],
      "metadata": {
        "id": "PKsUJtX2wNzn"
      },
      "execution_count": 33,
      "outputs": []
    }
  ]
}